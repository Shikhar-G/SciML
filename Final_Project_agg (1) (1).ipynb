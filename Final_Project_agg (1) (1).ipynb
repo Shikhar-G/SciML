{
  "cells": [
    {
      "cell_type": "code",
      "execution_count": 1,
      "metadata": {
        "id": "N54CrkPbwAyl"
      },
      "outputs": [],
      "source": [
        "import pandas as pd\n",
        "import numpy as np\n",
        "import matplotlib.pyplot as plt\n",
        "import os\n",
        "import warnings\n",
        "from tqdm import tqdm\n",
        "import torch\n",
        "import zipfile\n",
        "import warnings\n",
        "\n",
        "# Ignore all warnings\n",
        "warnings.filterwarnings(\"ignore\")\n"
      ]
    },
    {
      "cell_type": "code",
      "source": [
        "from google.colab import drive\n",
        "drive.mount('/content/drive')"
      ],
      "metadata": {
        "colab": {
          "base_uri": "https://localhost:8080/"
        },
        "id": "52bDLkzIBr50",
        "outputId": "09ab9f42-6a2a-4cdb-aae6-b92b8b23c513"
      },
      "execution_count": 2,
      "outputs": [
        {
          "output_type": "stream",
          "name": "stdout",
          "text": [
            "Mounted at /content/drive\n"
          ]
        }
      ]
    },
    {
      "cell_type": "code",
      "execution_count": 50,
      "metadata": {
        "id": "-T-i1LnSwOIE"
      },
      "outputs": [],
      "source": [
        "\n",
        "df_agg = pd.read_csv('/content/drive/MyDrive/Final Project/machine_learning_TJ_v6_normalized_scaled_final.csv')"
      ]
    },
    {
      "cell_type": "code",
      "source": [
        "df_demo_1 = pd.read_csv('/content/drive/MyDrive/Final Project/machine_learning_TJ_v7_demographics (1).csv')"
      ],
      "metadata": {
        "id": "1rQI8LUV1ZHG"
      },
      "execution_count": 51,
      "outputs": []
    },
    {
      "cell_type": "code",
      "source": [
        "df_demo_2 = df_demo_1[['patient_id_deident','disch_date_indexed']]\n",
        "\n",
        "df_int = pd.merge(df_demo_2, df_agg, on='patient_id_deident', how='inner')\n",
        "\n",
        "df_int.fillna(-1)\n",
        "print(df_int.shape)"
      ],
      "metadata": {
        "id": "a5jawRQCYI4H",
        "colab": {
          "base_uri": "https://localhost:8080/"
        },
        "outputId": "5aaf23cb-d693-4169-955c-e8b24ee37985"
      },
      "execution_count": 52,
      "outputs": [
        {
          "output_type": "stream",
          "name": "stdout",
          "text": [
            "(21312, 69)\n"
          ]
        }
      ]
    },
    {
      "cell_type": "code",
      "source": [
        "df_int.to_csv('Data_agg.csv')"
      ],
      "metadata": {
        "id": "9IHW6Y-S2qNt"
      },
      "execution_count": 53,
      "outputs": []
    },
    {
      "cell_type": "code",
      "source": [],
      "metadata": {
        "id": "PVH7X2FX2n7h"
      },
      "execution_count": 53,
      "outputs": []
    },
    {
      "cell_type": "code",
      "source": [
        "\n",
        "df_int.dropna()\n",
        "y = df_int['disch_date_indexed'].astype(float)\n",
        "X = np.array(df_int.drop('disch_date_indexed',axis =1))\n"
      ],
      "metadata": {
        "id": "7roSZVjvbkpd"
      },
      "execution_count": 54,
      "outputs": []
    },
    {
      "cell_type": "code",
      "source": [
        "y.fillna(y.median(), inplace = True)"
      ],
      "metadata": {
        "id": "3vwHA7zX3P-X"
      },
      "execution_count": 55,
      "outputs": []
    },
    {
      "cell_type": "code",
      "source": [
        "y = np.array(y)\n",
        "y = np.power(y,1/4)"
      ],
      "metadata": {
        "id": "hPUCItbDOvyF"
      },
      "execution_count": 56,
      "outputs": []
    },
    {
      "cell_type": "code",
      "source": [
        "from sklearn.model_selection import train_test_split\n",
        "from sklearn.linear_model import LinearRegression\n",
        "from sklearn.metrics import mean_squared_error\n",
        "\n",
        "# Split the data into train and test sets\n",
        "X_train, X_test, y_train, y_test = train_test_split(X, y, test_size=0.2, random_state=42)\n",
        "\n",
        "# Create a linear regression model\n",
        "model = LinearRegression()\n",
        "\n",
        "# Train the model\n",
        "model.fit(X_train, y_train)\n",
        "\n",
        "# Predict on the test set\n",
        "y_pred = model.predict(X_test)\n",
        "\n",
        "# Calculate Mean Squared Error (MSE)\n",
        "mse = mean_squared_error(y_test, y_pred)\n",
        "print(\"Mean Squared Error:\", mse)\n"
      ],
      "metadata": {
        "colab": {
          "base_uri": "https://localhost:8080/"
        },
        "id": "_y3PMPBS2P-b",
        "outputId": "ed62443c-f196-4be3-b835-66a989b1a3c2"
      },
      "execution_count": 57,
      "outputs": [
        {
          "output_type": "stream",
          "name": "stdout",
          "text": [
            "Mean Squared Error: 0.5235643870231119\n"
          ]
        }
      ]
    },
    {
      "cell_type": "code",
      "source": [
        "def transform_back(x):\n",
        "    return np.power(x, 4)"
      ],
      "metadata": {
        "id": "aB_HSLSVCpkY"
      },
      "execution_count": 58,
      "outputs": []
    },
    {
      "cell_type": "code",
      "source": [
        "y_test_transform = np.power(y_test, 4)\n",
        "y_pred_transform = np.power(y_pred, 4)\n",
        "plt.figure(figsize=(6, 6))\n",
        "\n",
        "# sort X_test and y_test by discharge date\n",
        "predicted = []\n",
        "actual = []\n",
        "# round the discharge date to the nearest integer\n",
        "y_test_transformed = np.round(y_test_transform)\n",
        "for actual_discharge_date in range(0, 100):\n",
        "    # transform the predicted discharge date to the original scale\n",
        "\n",
        "    indices = np.where(y_test_transformed == actual_discharge_date)[0]\n",
        "    # append the average predicted discharge date for the patients with the same actual discharge date\n",
        "    if len(indices) > 0:\n",
        "        predicted.append(np.mean(transform_back(model.predict(X_test[indices].reshape(len(indices), -1)))))\n",
        "        actual.append(actual_discharge_date)\n",
        "\n",
        "\n",
        "# plot the predicted discharge date vs the actual discharge date\n",
        "plt.plot(actual, predicted, 'o', color='b', label=\"Predicted discharge date\")\n",
        "plt.plot(actual, actual, color='r', linestyle='--', label=\"Target line\")\n",
        "# vertical line for how many days the model was trained on\n",
        "plt.legend()\n",
        "plt.xlabel(\"Actual discharge date\")\n",
        "plt.ylabel(\"Predicted discharge date\")\n",
        "plt.title(\"Predicted discharge date vs actual discharge date\")"
      ],
      "metadata": {
        "colab": {
          "base_uri": "https://localhost:8080/",
          "height": 581
        },
        "id": "4k7cIa49DizC",
        "outputId": "170e1c91-b99d-4873-c014-085be2c30dbb"
      },
      "execution_count": 59,
      "outputs": [
        {
          "output_type": "execute_result",
          "data": {
            "text/plain": [
              "Text(0.5, 1.0, 'Predicted discharge date vs actual discharge date')"
            ]
          },
          "metadata": {},
          "execution_count": 59
        },
        {
          "output_type": "display_data",
          "data": {
            "text/plain": [
              "<Figure size 600x600 with 1 Axes>"
            ],
            "image/png": "[encoded data removed]"
          },
          "metadata": {}
        }
      ]
    },
    {
      "cell_type": "code",
      "source": [
        "y = df_int['disch_date_indexed'].astype(float)\n",
        "X = np.array(df_int.drop('disch_date_indexed',axis =1))\n",
        "y.fillna(y.median(), inplace = True)\n",
        "y = np.array(y)\n",
        "y = np.power(y,1/4)\n",
        "# Split the data into train and test sets\n",
        "X_train, X_test, y_train, y_test = train_test_split(X, y, test_size=0.2, random_state=42)"
      ],
      "metadata": {
        "id": "JCr98AKyHXFu"
      },
      "execution_count": 44,
      "outputs": []
    },
    {
      "cell_type": "code",
      "source": [
        "import torch\n",
        "import torch.nn as nn\n",
        "import torch.optim as optim\n",
        "\n",
        "# Define the neural network class\n",
        "class FFNN(nn.Module):\n",
        "    def __init__(self):\n",
        "        super(FFNN, self).__init__()\n",
        "        self.fc1 = nn.Linear(68, 128)  # First fully-connected layer\n",
        "\n",
        "        self.fc3 = nn.Linear(128, 1)  # Output layer\n",
        "        self.relu = nn.ReLU()  # ReLU activation function\n",
        "\n",
        "    def forward(self, x):\n",
        "        x = self.relu(self.fc1(x))  # Pass through first FC layer and ReLU activation\n",
        "        x = self.fc3(x)  # Output layer\n",
        "        return x\n",
        "\n",
        "# Instantiate the model\n",
        "model = FFNN()\n",
        "\n",
        "# Define the loss function (Mean Squared Error)\n",
        "criterion = nn.MSELoss()\n",
        "\n",
        "# Define the optimizer (e.g., Adam optimizer with default parameters)\n",
        "optimizer = optim.Adam(model.parameters())\n",
        "\n",
        "# Convert input data to PyTorch tensors\n",
        "X = torch.tensor(X_train, dtype=torch.float32)\n",
        "y = torch.tensor(y_train, dtype=torch.float32)\n",
        "\n",
        "# Training loop\n",
        "num_epochs = 100\n",
        "for epoch in range(num_epochs):\n",
        "    # Forward pass\n",
        "    outputs = model(X)\n",
        "\n",
        "    # Compute loss\n",
        "    loss = criterion(outputs, y)\n",
        "\n",
        "    # Backward pass and optimization\n",
        "    optimizer.zero_grad()\n",
        "    loss.backward()\n",
        "    optimizer.step()\n",
        "\n",
        "    # Print loss every few epochs\n",
        "    if (epoch+1) % 10 == 0:\n",
        "        print(f'Epoch [{epoch+1}/{num_epochs}], Loss: {loss.item():.4f}')\n"
      ],
      "metadata": {
        "colab": {
          "base_uri": "https://localhost:8080/"
        },
        "id": "bWYgmDORRdrp",
        "outputId": "546a5c0e-9c18-4b9b-dc90-ad769dec44db"
      },
      "execution_count": 45,
      "outputs": [
        {
          "output_type": "stream",
          "name": "stdout",
          "text": [
            "Epoch [10/100], Loss: 4885.3428\n",
            "Epoch [20/100], Loss: 3289.4121\n",
            "Epoch [30/100], Loss: 1986.7290\n",
            "Epoch [40/100], Loss: 248.5438\n",
            "Epoch [50/100], Loss: 12.4810\n",
            "Epoch [60/100], Loss: 24.0374\n",
            "Epoch [70/100], Loss: 25.2962\n",
            "Epoch [80/100], Loss: 34.3759\n",
            "Epoch [90/100], Loss: 11.3934\n",
            "Epoch [100/100], Loss: 5.0961\n"
          ]
        }
      ]
    },
    {
      "cell_type": "code",
      "source": [],
      "metadata": {
        "id": "qsKPqqQH_3b5"
      },
      "execution_count": null,
      "outputs": []
    },
    {
      "cell_type": "code",
      "source": [
        "X_test_tensor = torch.tensor(X_test, dtype=torch.float32)\n",
        "y_test_tensor = torch.tensor(y_test, dtype=torch.float32)\n",
        "\n",
        "# Forward pass on test data\n",
        "with torch.no_grad():\n",
        "    outputs_test = model(X_test_tensor)\n",
        "\n",
        "# Compute test loss\n",
        "loss_test = criterion(outputs_test, y_test_tensor)\n",
        "\n",
        "print(f'Test Loss: {loss_test.item():.4f}')"
      ],
      "metadata": {
        "colab": {
          "base_uri": "https://localhost:8080/"
        },
        "id": "m8CU5S1yH9zq",
        "outputId": "69e363c9-9623-4c9f-d95d-45f9b5f59863"
      },
      "execution_count": 46,
      "outputs": [
        {
          "output_type": "stream",
          "name": "stdout",
          "text": [
            "Test Loss: 3.7633\n"
          ]
        }
      ]
    },
    {
      "cell_type": "code",
      "source": [
        "plt.figure(figsize=(6, 6))\n",
        "\n",
        "predicted = []\n",
        "actual = []\n",
        "y_test_transformed = transform_back(y_test_tensor)\n",
        "# round the discharge date to the nearest integer\n",
        "y_test_transformed = np.round(y_test_transformed)\n",
        "for actual_discharge_date in range(0, 100):\n",
        "    # transform the predicted discharge date to the original scale\n",
        "    indices = np.where(y_test_transformed == actual_discharge_date)[0]\n",
        "    # append the average predicted discharge date for the patients with the same actual discharge date\n",
        "    if len(indices) > 0:\n",
        "        predicted.append(np.mean(transform_back(model(X_test_tensor.reshape(X_test_tensor.shape[0], -1)[indices]).detach().cpu().numpy())))\n",
        "        actual.append(actual_discharge_date)\n",
        "\n",
        "plt.plot(actual, predicted, 'o', color='b', label=\"Predicted discharge date\")\n",
        "plt.plot([0, 100], [0, 100], color='r', linestyle='--', label=\"Target line\")\n",
        "plt.legend()\n",
        "plt.xlabel(\"Actual discharge date\")\n",
        "plt.ylabel(\"Predicted discharge date\")\n",
        "plt.title(\"Predicted discharge date vs actual discharge date\")\n",
        "plt.show()"
      ],
      "metadata": {
        "colab": {
          "base_uri": "https://localhost:8080/",
          "height": 564
        },
        "id": "IlEcPH6ACKW9",
        "outputId": "3c5a0284-217c-40ae-b36d-1010aa853898"
      },
      "execution_count": 48,
      "outputs": [
        {
          "output_type": "display_data",
          "data": {
            "text/plain": [
              "<Figure size 600x600 with 1 Axes>"
            ],
            "image/png": "[encoded data removed]"
          },
          "metadata": {}
        }
      ]
    },
    {
      "cell_type": "markdown",
      "source": [],
      "metadata": {
        "id": "lI_IO0eBD-g2"
      }
    },
    {
      "cell_type": "code",
      "source": [
        "# Split the data into train and test sets\n",
        "from sklearn.model_selection import train_test_split\n",
        "X_train, X_test, y_train, y_test = train_test_split(X, y, test_size=0.2, random_state=42)"
      ],
      "metadata": {
        "id": "niZ0ibMsDvNW"
      },
      "execution_count": 12,
      "outputs": []
    },
    {
      "cell_type": "code",
      "source": [
        "import torch\n",
        "import torch.nn as nn\n",
        "import torch.optim as optim\n",
        "\n",
        "# Define the LSTM model class\n",
        "class LSTM(nn.Module):\n",
        "    def __init__(self, input_size, hidden_size, num_layers, output_size, dropout):\n",
        "        super(LSTM, self).__init__()\n",
        "        self.hidden_size = hidden_size\n",
        "        self.num_layers = num_layers\n",
        "        self.lstm = nn.LSTM(input_size, hidden_size, num_layers, dropout=dropout, batch_first=True)\n",
        "        self.fc = nn.Linear(hidden_size, output_size)\n",
        "\n",
        "    def forward(self, x):\n",
        "        # Initialize hidden state with zeros\n",
        "        h0 = torch.zeros(self.num_layers, x.size(0), self.hidden_size).to(x.device)\n",
        "        # Initialize cell state with zeros\n",
        "        c0 = torch.zeros(self.num_layers, x.size(0), self.hidden_size).to(x.device)\n",
        "\n",
        "        # Forward propagate LSTM\n",
        "        out, _ = self.lstm(x, (h0, c0))  # out: tensor of shape (batch_size, seq_length, hidden_size)\n",
        "\n",
        "        # Decode the hidden state of the last time step\n",
        "        out = self.fc(out[:, -1, :])\n",
        "        return out.squeeze(1)\n",
        "\n",
        "# Hyperparameters\n",
        "input_size = 1\n",
        "hidden_size = 128\n",
        "num_layers = 2\n",
        "output_size = 1\n",
        "dropout = 0.2\n",
        "\n",
        "# Instantiate the model\n",
        "model = LSTM(input_size, hidden_size, num_layers, output_size, dropout)\n",
        "\n",
        "# Define the loss function (Mean Squared Error)\n",
        "criterion = nn.MSELoss()\n",
        "\n",
        "# Define the optimizer (e.g., Adam optimizer with default parameters)\n",
        "optimizer = optim.Adam(model.parameters())\n",
        "\n",
        "# Convert input data to PyTorch tensors\n",
        "X = torch.tensor(X_train, dtype=torch.float32)\n",
        "y = torch.tensor(y_train, dtype=torch.float32)\n",
        "\n",
        "# Reshape input data to match the expected shape (batch_size, seq_length, input_size)\n",
        "X = X.unsqueeze(2)  # Add an extra dimension for the input size\n",
        "\n",
        "# Training loop\n",
        "num_epochs = 100\n",
        "for epoch in range(num_epochs):\n",
        "    # Forward pass\n",
        "    outputs = model(X)\n",
        "\n",
        "    # Compute loss\n",
        "    loss = criterion(outputs, y)\n",
        "\n",
        "    # Backward pass and optimization\n",
        "    optimizer.zero_grad()\n",
        "    loss.backward()\n",
        "    optimizer.step()\n",
        "\n",
        "    # Print loss every few epochs\n",
        "    if (epoch+1) % 10 == 0:\n",
        "        print(f'Epoch [{epoch+1}/{num_epochs}], Loss: {loss.item():.4f}')\n"
      ],
      "metadata": {
        "id": "I4NNYY6tWqnw"
      },
      "execution_count": null,
      "outputs": []
    },
    {
      "cell_type": "markdown",
      "source": [
        "Due to the unavailability of RAM in the colab, we are not able to run the LSTM model."
      ],
      "metadata": {
        "id": "PYEEhcpt_vZF"
      }
    },
    {
      "cell_type": "code",
      "source": [],
      "metadata": {
        "id": "z0QILE8ZZt7R"
      },
      "execution_count": null,
      "outputs": []
    }
  ],
  "metadata": {
    "colab": {
      "provenance": []
    },
    "kernelspec": {
      "display_name": "Python 3 (ipykernel)",
      "language": "python",
      "name": "python3"
    },
    "language_info": {
      "codemirror_mode": {
        "name": "ipython",
        "version": 3
      },
      "file_extension": ".py",
      "mimetype": "text/x-python",
      "name": "python",
      "nbconvert_exporter": "python",
      "pygments_lexer": "ipython3",
      "version": "3.11.5"
    }
  },
  "nbformat": 4,
  "nbformat_minor": 0
}